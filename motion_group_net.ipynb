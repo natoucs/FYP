{
 "cells": [
  {
   "cell_type": "code",
   "execution_count": null,
   "metadata": {},
   "outputs": [],
   "source": []
  },
  {
   "cell_type": "code",
   "execution_count": null,
   "metadata": {},
   "outputs": [],
   "source": [
    "#Load group dico and labels\n",
    "family = 'Motion' \n",
    "location = directory + 'labels/grouping_1/motion_group_labels.txt'\n",
    "\n",
    "#Train RNN on classifying the object group\n",
    "(labels, pred_labels, true_labels) = doMyRNN(location, family)\n",
    "\n",
    "#Save on disk to not have to retrain to get results\n",
    "location = directory + 'results/group_RNN/' + family + '/'\n",
    "np.save(location + 'labels.npy', labels)    # .npy extension is added if not given\n",
    "np.save(location + 'pred_labels.npy', pred_labels) \n",
    "np.save(location + 'true_labels.npy', true_labels) "
   ]
  },
  {
   "cell_type": "code",
   "execution_count": 1,
   "metadata": {},
   "outputs": [
    {
     "ename": "NameError",
     "evalue": "name 'action_to_group' is not defined",
     "output_type": "error",
     "traceback": [
      "\u001b[0;31m---------------------------------------------------------------------------\u001b[0m",
      "\u001b[0;31mNameError\u001b[0m                                 Traceback (most recent call last)",
      "\u001b[0;32m<ipython-input-1-1d01959f30ce>\u001b[0m in \u001b[0;36m<module>\u001b[0;34m()\u001b[0m\n\u001b[1;32m      1\u001b[0m \u001b[0;31m#Motion group RNN results\u001b[0m\u001b[0;34m\u001b[0m\u001b[0;34m\u001b[0m\u001b[0m\n\u001b[1;32m      2\u001b[0m \u001b[0;34m\u001b[0m\u001b[0m\n\u001b[0;32m----> 3\u001b[0;31m \u001b[0;34m(\u001b[0m\u001b[0m_\u001b[0m\u001b[0;34m,\u001b[0m \u001b[0mg_labels\u001b[0m\u001b[0;34m)\u001b[0m \u001b[0;34m=\u001b[0m \u001b[0maction_to_group\u001b[0m\u001b[0;34m(\u001b[0m\u001b[0mdirectory\u001b[0m \u001b[0;34m+\u001b[0m \u001b[0;34m'labels/grouping_1/motion_group_labels.txt'\u001b[0m\u001b[0;34m,\u001b[0m \u001b[0mfamily\u001b[0m\u001b[0;34m)\u001b[0m\u001b[0;34m\u001b[0m\u001b[0m\n\u001b[0m\u001b[1;32m      4\u001b[0m \u001b[0;34m\u001b[0m\u001b[0m\n\u001b[1;32m      5\u001b[0m \u001b[0mfamily\u001b[0m \u001b[0;34m=\u001b[0m \u001b[0;34m'Motion'\u001b[0m\u001b[0;34m\u001b[0m\u001b[0m\n",
      "\u001b[0;31mNameError\u001b[0m: name 'action_to_group' is not defined"
     ]
    }
   ],
   "source": [
    "#Motion group RNN results\n",
    "\n",
    "(_, g_labels) = action_to_group(directory + 'labels/grouping_1/motion_group_labels.txt', family)\n",
    "\n",
    "family = 'Motion'\n",
    "location = directory + 'results/group_RNN/' + family + '/'\n",
    "(labels, pred_labels, true_labels) = ( np.load(location + 'labels.npy'), \n",
    "                                       np.load(location + 'pred_labels.npy'),\n",
    "                                       np.load(location + 'true_labels.npy') )\n",
    "\n",
    "ite = 0\n",
    "confidence_probability_g (labels[ite,:], pred_labels[ite], true_labels[ite], g_labels)\n",
    "confusion_mtx(true_labels, pred_labels, g_labels)"
   ]
  },
  {
   "cell_type": "code",
   "execution_count": null,
   "metadata": {},
   "outputs": [],
   "source": []
  }
 ],
 "metadata": {
  "kernelspec": {
   "display_name": "Python 3",
   "language": "python",
   "name": "python3"
  },
  "language_info": {
   "codemirror_mode": {
    "name": "ipython",
    "version": 3
   },
   "file_extension": ".py",
   "mimetype": "text/x-python",
   "name": "python",
   "nbconvert_exporter": "python",
   "pygments_lexer": "ipython3",
   "version": "3.6.5"
  }
 },
 "nbformat": 4,
 "nbformat_minor": 2
}
